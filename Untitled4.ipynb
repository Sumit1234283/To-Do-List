{
 "cells": [
  {
   "cell_type": "code",
   "execution_count": 1,
   "id": "02145145-ac5b-4093-97bf-764105bb36e8",
   "metadata": {},
   "outputs": [
    {
     "name": "stdout",
     "output_type": "stream",
     "text": [
      "\n",
      "Menu:\n",
      "1. Add task\n",
      "2. Update task\n",
      "3. Delete task\n",
      "4. View tasks\n",
      "5. Exit\n"
     ]
    },
    {
     "name": "stdin",
     "output_type": "stream",
     "text": [
      "Enter your choice:  1\n",
      "Enter the task:  1.coding 2.project 3.book 4.lunch 5.playing\n"
     ]
    },
    {
     "name": "stdout",
     "output_type": "stream",
     "text": [
      "Task added successfully.\n",
      "\n",
      "Menu:\n",
      "1. Add task\n",
      "2. Update task\n",
      "3. Delete task\n",
      "4. View tasks\n",
      "5. Exit\n"
     ]
    },
    {
     "name": "stdin",
     "output_type": "stream",
     "text": [
      "Enter your choice:  1\n",
      "Enter the task:  6.enjoy\n"
     ]
    },
    {
     "name": "stdout",
     "output_type": "stream",
     "text": [
      "Task added successfully.\n",
      "\n",
      "Menu:\n",
      "1. Add task\n",
      "2. Update task\n",
      "3. Delete task\n",
      "4. View tasks\n",
      "5. Exit\n"
     ]
    },
    {
     "name": "stdin",
     "output_type": "stream",
     "text": [
      "Enter your choice:  2\n",
      "Enter the task to update:  6.enjoy\n"
     ]
    },
    {
     "name": "stdout",
     "output_type": "stream",
     "text": [
      "Task updated successfully.\n",
      "\n",
      "Menu:\n",
      "1. Add task\n",
      "2. Update task\n",
      "3. Delete task\n",
      "4. View tasks\n",
      "5. Exit\n"
     ]
    },
    {
     "name": "stdin",
     "output_type": "stream",
     "text": [
      "Enter your choice:  4\n"
     ]
    },
    {
     "name": "stdout",
     "output_type": "stream",
     "text": [
      "To-Do List:\n",
      "1.coding 2.project 3.book 4.lunch 5.playing: Not Completed\n",
      "6.enjoy: Completed\n",
      "\n",
      "Menu:\n",
      "1. Add task\n",
      "2. Update task\n",
      "3. Delete task\n",
      "4. View tasks\n",
      "5. Exit\n"
     ]
    },
    {
     "name": "stdin",
     "output_type": "stream",
     "text": [
      "Enter your choice:  3\n",
      "Enter the task to delete:  6.enjoy\n"
     ]
    },
    {
     "name": "stdout",
     "output_type": "stream",
     "text": [
      "Task deleted successfully.\n",
      "\n",
      "Menu:\n",
      "1. Add task\n",
      "2. Update task\n",
      "3. Delete task\n",
      "4. View tasks\n",
      "5. Exit\n"
     ]
    },
    {
     "name": "stdin",
     "output_type": "stream",
     "text": [
      "Enter your choice:  4\n"
     ]
    },
    {
     "name": "stdout",
     "output_type": "stream",
     "text": [
      "To-Do List:\n",
      "1.coding 2.project 3.book 4.lunch 5.playing: Not Completed\n",
      "\n",
      "Menu:\n",
      "1. Add task\n",
      "2. Update task\n",
      "3. Delete task\n",
      "4. View tasks\n",
      "5. Exit\n"
     ]
    },
    {
     "name": "stdin",
     "output_type": "stream",
     "text": [
      "Enter your choice:  5\n"
     ]
    },
    {
     "name": "stdout",
     "output_type": "stream",
     "text": [
      "Exiting program. Bye!\n"
     ]
    }
   ],
   "source": [
    "def add_task(todo_list):\n",
    "    task_name = input(\"Enter the task: \")\n",
    "    todo_list[task_name] = False\n",
    "    print(\"Task added successfully.\")\n",
    "\n",
    "def update_task(todo_list):\n",
    "    task_name = input(\"Enter the task to update: \")\n",
    "    if task_name in todo_list:\n",
    "        todo_list[task_name] = True\n",
    "        print(\"Task updated successfully.\")\n",
    "    else:\n",
    "        print(\"Task not found.\")\n",
    "\n",
    "def delete_task(todo_list):\n",
    "    task_name = input(\"Enter the task to delete: \")\n",
    "    if task_name in todo_list:\n",
    "        del todo_list[task_name]\n",
    "        print(\"Task deleted successfully.\")\n",
    "    else:\n",
    "        print(\"Task not found.\")\n",
    "\n",
    "def view_tasks(todo_list):\n",
    "    if todo_list:\n",
    "        print(\"To-Do List:\")\n",
    "        for task, completed in todo_list.items():\n",
    "            status = \"Completed\" if completed else \"Not Completed\"\n",
    "            print(f\"{task}: {status}\")\n",
    "    else:\n",
    "        print(\"No tasks in the to-do list.\")\n",
    "\n",
    "def main():\n",
    "    todo_list = {}\n",
    "    while True:\n",
    "        print(\"\\nMenu:\")\n",
    "        print(\"1. Add task\")\n",
    "        print(\"2. Update task\")\n",
    "        print(\"3. Delete task\")\n",
    "        print(\"4. View tasks\")\n",
    "        print(\"5. Exit\")\n",
    "\n",
    "        choice = input(\"Enter your choice: \")\n",
    "\n",
    "        if choice == '1':\n",
    "            add_task(todo_list)\n",
    "        elif choice == '2':\n",
    "            update_task(todo_list)\n",
    "        elif choice == '3':\n",
    "            delete_task(todo_list)\n",
    "        elif choice == '4':\n",
    "            view_tasks(todo_list)\n",
    "        elif choice == '5':\n",
    "            print(\"Exiting program. Bye!\")\n",
    "            break\n",
    "        else:\n",
    "            print(\"Invalid choice. Please enter a number from 1 to 5.\")\n",
    "\n",
    "if __name__ == \"__main__\":\n",
    "    main()\n"
   ]
  },
  {
   "cell_type": "code",
   "execution_count": null,
   "id": "23e76d19-1423-42b8-968e-698f272c53e9",
   "metadata": {},
   "outputs": [],
   "source": []
  }
 ],
 "metadata": {
  "kernelspec": {
   "display_name": "Python 3 (ipykernel)",
   "language": "python",
   "name": "python3"
  },
  "language_info": {
   "codemirror_mode": {
    "name": "ipython",
    "version": 3
   },
   "file_extension": ".py",
   "mimetype": "text/x-python",
   "name": "python",
   "nbconvert_exporter": "python",
   "pygments_lexer": "ipython3",
   "version": "3.11.7"
  }
 },
 "nbformat": 4,
 "nbformat_minor": 5
}
